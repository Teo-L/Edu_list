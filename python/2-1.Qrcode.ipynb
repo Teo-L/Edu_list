{
 "cells": [
  {
   "cell_type": "markdown",
   "id": "d9e54354",
   "metadata": {},
   "source": [
    "9/13\n",
    "\n",
    "미니프로젝트 : QRcode generateor\n",
    "    * 라이브러리 설치 및 활용\n",
    "    * 요구사항을 생각해서 그것에 맞는 라이브러리가 있는지 찾기\n",
    "    * 그것을 활용\n",
    "미니 프로젝트 : ocr\n",
    "    * 라이브러리 활용\n",
    "    * 리스트 자료형\n",
    "    * for 반복문\n",
    "\n",
    "미니프로젝트 : voice assistance\n",
    "    * 라이브러리 활용\n",
    "    * 기능단위로 잘라서 구현 (STT -> 로직 -> TTS) -> 사용자 정의 함수"
   ]
  },
  {
   "cell_type": "markdown",
   "id": "18a4de5e",
   "metadata": {},
   "source": [
    "## QRCode를 생성하는 프로그램\n",
    "\n",
    "* https://pypi.org/project/qrcode/"
   ]
  },
  {
   "cell_type": "markdown",
   "id": "001271e6",
   "metadata": {},
   "source": [
    "## 라이브러리 설치"
   ]
  },
  {
   "cell_type": "code",
   "execution_count": 1,
   "id": "be9841a7",
   "metadata": {},
   "outputs": [
    {
     "name": "stdout",
     "output_type": "stream",
     "text": [
      "Collecting qrcode[pil]\n",
      "  Downloading qrcode-7.3.1.tar.gz (43 kB)\n",
      "     ---------------------------------------- 43.5/43.5 kB 2.2 MB/s eta 0:00:00\n",
      "  Preparing metadata (setup.py): started\n",
      "  Preparing metadata (setup.py): finished with status 'done'\n",
      "Requirement already satisfied: colorama in c:\\users\\user\\appdata\\roaming\\python\\python39\\site-packages (from qrcode[pil]) (0.4.5)\n",
      "Collecting pillow\n",
      "  Downloading Pillow-9.2.0-cp39-cp39-win_amd64.whl (3.3 MB)\n",
      "     ---------------------------------------- 3.3/3.3 MB 10.4 MB/s eta 0:00:00\n",
      "Using legacy 'setup.py install' for qrcode, since package 'wheel' is not installed.\n",
      "Installing collected packages: qrcode, pillow\n",
      "  Running setup.py install for qrcode: started\n",
      "  Running setup.py install for qrcode: finished with status 'done'\n",
      "Successfully installed pillow-9.2.0 qrcode-7.3.1\n"
     ]
    }
   ],
   "source": [
    "!pip install qrcode[pil]"
   ]
  },
  {
   "cell_type": "code",
   "execution_count": 4,
   "id": "3008a012",
   "metadata": {},
   "outputs": [],
   "source": [
    "import qrcode"
   ]
  },
  {
   "cell_type": "code",
   "execution_count": null,
   "id": "c2050b31",
   "metadata": {},
   "outputs": [],
   "source": []
  }
 ],
 "metadata": {
  "kernelspec": {
   "display_name": "Python 3.9.13 64-bit",
   "language": "python",
   "name": "python3"
  },
  "language_info": {
   "codemirror_mode": {
    "name": "ipython",
    "version": 3
   },
   "file_extension": ".py",
   "mimetype": "text/x-python",
   "name": "python",
   "nbconvert_exporter": "python",
   "pygments_lexer": "ipython3",
   "version": "3.9.13"
  },
  "vscode": {
   "interpreter": {
    "hash": "81794d4967e6c3204c66dcd87b604927b115b27c00565d3d43f05ba2f3a2cb0d"
   }
  }
 },
 "nbformat": 4,
 "nbformat_minor": 5
}

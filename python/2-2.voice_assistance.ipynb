{
 "cells": [
  {
   "cell_type": "markdown",
   "metadata": {},
   "source": [
    "## Voice Assistance 구현하기\n",
    "\n",
    "* 음성인식(질문) -> 문자변환(질문) -> 질문 판별 -> 문자생성(답변) -> 음성으로 답변\n",
    "* STT -> 질문 판별 -> TTS"
   ]
  },
  {
   "cell_type": "markdown",
   "metadata": {},
   "source": [
    "### STT(Speech To Text) 구현"
   ]
  },
  {
   "cell_type": "code",
   "execution_count": 2,
   "metadata": {},
   "outputs": [
    {
     "name": "stdout",
     "output_type": "stream",
     "text": [
      "Requirement already satisfied: SpeechRecognition in c:\\python39\\lib\\site-packages (3.8.1)\n"
     ]
    }
   ],
   "source": [
    "!pip install SpeechRecognition"
   ]
  },
  {
   "cell_type": "code",
   "execution_count": 4,
   "metadata": {},
   "outputs": [
    {
     "name": "stdout",
     "output_type": "stream",
     "text": [
      "Collecting pyaudio\n",
      "  Downloading PyAudio-0.2.12-cp39-cp39-win_amd64.whl (163 kB)\n",
      "     -------------------------------------- 164.0/164.0 kB 1.2 MB/s eta 0:00:00\n",
      "Installing collected packages: pyaudio\n",
      "Successfully installed pyaudio-0.2.12\n"
     ]
    }
   ],
   "source": [
    "!pip install pyaudio"
   ]
  },
  {
   "cell_type": "code",
   "execution_count": 6,
   "metadata": {},
   "outputs": [],
   "source": [
    "import speech_recognition as sr"
   ]
  },
  {
   "cell_type": "code",
   "execution_count": 7,
   "metadata": {},
   "outputs": [],
   "source": [
    "r = sr.Recognizer()"
   ]
  },
  {
   "cell_type": "markdown",
   "metadata": {},
   "source": [
    "## TTS(Text to Speech)구현"
   ]
  },
  {
   "cell_type": "code",
   "execution_count": 14,
   "metadata": {},
   "outputs": [
    {
     "ename": "OSError",
     "evalue": "No Default Input Device Available",
     "output_type": "error",
     "traceback": [
      "\u001b[1;31m---------------------------------------------------------------------------\u001b[0m",
      "\u001b[1;31mOSError\u001b[0m                                   Traceback (most recent call last)",
      "Cell \u001b[1;32mIn [14], line 1\u001b[0m\n\u001b[1;32m----> 1\u001b[0m \u001b[38;5;28;01mwith\u001b[39;00m \u001b[43msr\u001b[49m\u001b[38;5;241;43m.\u001b[39;49m\u001b[43mMicrophone\u001b[49m\u001b[43m(\u001b[49m\u001b[43m)\u001b[49m \u001b[38;5;28;01mas\u001b[39;00m source:\n\u001b[0;32m      2\u001b[0m     said \u001b[38;5;241m=\u001b[39m r\u001b[38;5;241m.\u001b[39mlisten(source) \u001b[38;5;66;03m# 마이크로 음성을 받음\u001b[39;00m\n\u001b[0;32m      4\u001b[0m     \u001b[38;5;28;01mtry\u001b[39;00m:\n",
      "File \u001b[1;32mc:\\Python39\\lib\\site-packages\\speech_recognition\\__init__.py:86\u001b[0m, in \u001b[0;36mMicrophone.__init__\u001b[1;34m(self, device_index, sample_rate, chunk_size)\u001b[0m\n\u001b[0;32m     84\u001b[0m     \u001b[39massert\u001b[39;00m \u001b[39m0\u001b[39m \u001b[39m<\u001b[39m\u001b[39m=\u001b[39m device_index \u001b[39m<\u001b[39m count, \u001b[39m\"\u001b[39m\u001b[39mDevice index out of range (\u001b[39m\u001b[39m{}\u001b[39;00m\u001b[39m devices available; device index should be between 0 and \u001b[39m\u001b[39m{}\u001b[39;00m\u001b[39m inclusive)\u001b[39m\u001b[39m\"\u001b[39m\u001b[39m.\u001b[39mformat(count, count \u001b[39m-\u001b[39m \u001b[39m1\u001b[39m)\n\u001b[0;32m     85\u001b[0m \u001b[39mif\u001b[39;00m sample_rate \u001b[39mis\u001b[39;00m \u001b[39mNone\u001b[39;00m:  \u001b[39m# automatically set the sample rate to the hardware's default sample rate if not specified\u001b[39;00m\n\u001b[1;32m---> 86\u001b[0m     device_info \u001b[39m=\u001b[39m audio\u001b[39m.\u001b[39mget_device_info_by_index(device_index) \u001b[39mif\u001b[39;00m device_index \u001b[39mis\u001b[39;00m \u001b[39mnot\u001b[39;00m \u001b[39mNone\u001b[39;00m \u001b[39melse\u001b[39;00m audio\u001b[39m.\u001b[39;49mget_default_input_device_info()\n\u001b[0;32m     87\u001b[0m     \u001b[39massert\u001b[39;00m \u001b[39misinstance\u001b[39m(device_info\u001b[39m.\u001b[39mget(\u001b[39m\"\u001b[39m\u001b[39mdefaultSampleRate\u001b[39m\u001b[39m\"\u001b[39m), (\u001b[39mfloat\u001b[39m, \u001b[39mint\u001b[39m)) \u001b[39mand\u001b[39;00m device_info[\u001b[39m\"\u001b[39m\u001b[39mdefaultSampleRate\u001b[39m\u001b[39m\"\u001b[39m] \u001b[39m>\u001b[39m \u001b[39m0\u001b[39m, \u001b[39m\"\u001b[39m\u001b[39mInvalid device info returned from PyAudio: \u001b[39m\u001b[39m{}\u001b[39;00m\u001b[39m\"\u001b[39m\u001b[39m.\u001b[39mformat(device_info)\n\u001b[0;32m     88\u001b[0m     sample_rate \u001b[39m=\u001b[39m \u001b[39mint\u001b[39m(device_info[\u001b[39m\"\u001b[39m\u001b[39mdefaultSampleRate\u001b[39m\u001b[39m\"\u001b[39m])\n",
      "File \u001b[1;32mc:\\Python39\\lib\\site-packages\\pyaudio.py:953\u001b[0m, in \u001b[0;36mPyAudio.get_default_input_device_info\u001b[1;34m(self)\u001b[0m\n\u001b[0;32m    943\u001b[0m \u001b[39mdef\u001b[39;00m \u001b[39mget_default_input_device_info\u001b[39m(\u001b[39mself\u001b[39m):\n\u001b[0;32m    944\u001b[0m     \u001b[39m\"\"\"\u001b[39;00m\n\u001b[0;32m    945\u001b[0m \u001b[39m    Return the default input Device parameters as a\u001b[39;00m\n\u001b[0;32m    946\u001b[0m \u001b[39m    dictionary. The keys of the dictionary mirror the data fields\u001b[39;00m\n\u001b[1;32m   (...)\u001b[0m\n\u001b[0;32m    950\u001b[0m \u001b[39m    :rtype: dict\u001b[39;00m\n\u001b[0;32m    951\u001b[0m \u001b[39m    \"\"\"\u001b[39;00m\n\u001b[1;32m--> 953\u001b[0m     device_index \u001b[39m=\u001b[39m pa\u001b[39m.\u001b[39;49mget_default_input_device()\n\u001b[0;32m    954\u001b[0m     \u001b[39mreturn\u001b[39;00m \u001b[39mself\u001b[39m\u001b[39m.\u001b[39mget_device_info_by_index(device_index)\n",
      "\u001b[1;31mOSError\u001b[0m: No Default Input Device Available"
     ]
    }
   ],
   "source": [
    "with sr.Microphone() as source:\n",
    "    said = r.listen(source) # 마이크로 음성을 받음\n",
    "\n",
    "    try:\n",
    "        q = r.recognize_google(said,laguage='ko') #구글이 한국어를 인식하여 문자로 반환\n",
    "        print(q)\n",
    "\n",
    "    except sr.UnknownValueError:\n",
    "        print('뭔교')\n",
    "    except:\n",
    "        print('뭔말인교')\n"
   ]
  },
  {
   "cell_type": "code",
   "execution_count": 15,
   "metadata": {},
   "outputs": [],
   "source": [
    "def tranform():\n",
    "    r = sr.Recognizer()\n",
    "    with sr.Microphone() as source:\n",
    "        said = r.listen(source) # 마이크로 음성을 받음\n",
    "\n",
    "        try:\n",
    "            q = r.recognize_google(said,laguage='ko') #구글이 한국어를 인식하여 문자로 반환\n",
    "            print(q)\n",
    "\n",
    "        except sr.UnknownValueError:\n",
    "            print('뭔교')\n",
    "        except:\n",
    "            print('뭔말인교')"
   ]
  },
  {
   "cell_type": "code",
   "execution_count": 16,
   "metadata": {},
   "outputs": [
    {
     "ename": "OSError",
     "evalue": "No Default Input Device Available",
     "output_type": "error",
     "traceback": [
      "\u001b[1;31m---------------------------------------------------------------------------\u001b[0m",
      "\u001b[1;31mOSError\u001b[0m                                   Traceback (most recent call last)",
      "Cell \u001b[1;32mIn [16], line 1\u001b[0m\n\u001b[1;32m----> 1\u001b[0m text \u001b[38;5;241m=\u001b[39m \u001b[43mtranform\u001b[49m\u001b[43m(\u001b[49m\u001b[43m)\u001b[49m\n",
      "Cell \u001b[1;32mIn [15], line 3\u001b[0m, in \u001b[0;36mtranform\u001b[1;34m()\u001b[0m\n\u001b[0;32m      1\u001b[0m \u001b[38;5;28;01mdef\u001b[39;00m \u001b[38;5;21mtranform\u001b[39m():\n\u001b[0;32m      2\u001b[0m     r \u001b[38;5;241m=\u001b[39m sr\u001b[38;5;241m.\u001b[39mRecognizer()\n\u001b[1;32m----> 3\u001b[0m     \u001b[38;5;28;01mwith\u001b[39;00m \u001b[43msr\u001b[49m\u001b[38;5;241;43m.\u001b[39;49m\u001b[43mMicrophone\u001b[49m\u001b[43m(\u001b[49m\u001b[43m)\u001b[49m \u001b[38;5;28;01mas\u001b[39;00m source:\n\u001b[0;32m      4\u001b[0m         said \u001b[38;5;241m=\u001b[39m r\u001b[38;5;241m.\u001b[39mlisten(source) \u001b[38;5;66;03m# 마이크로 음성을 받음\u001b[39;00m\n\u001b[0;32m      6\u001b[0m         \u001b[38;5;28;01mtry\u001b[39;00m:\n",
      "File \u001b[1;32mc:\\Python39\\lib\\site-packages\\speech_recognition\\__init__.py:86\u001b[0m, in \u001b[0;36mMicrophone.__init__\u001b[1;34m(self, device_index, sample_rate, chunk_size)\u001b[0m\n\u001b[0;32m     84\u001b[0m     \u001b[39massert\u001b[39;00m \u001b[39m0\u001b[39m \u001b[39m<\u001b[39m\u001b[39m=\u001b[39m device_index \u001b[39m<\u001b[39m count, \u001b[39m\"\u001b[39m\u001b[39mDevice index out of range (\u001b[39m\u001b[39m{}\u001b[39;00m\u001b[39m devices available; device index should be between 0 and \u001b[39m\u001b[39m{}\u001b[39;00m\u001b[39m inclusive)\u001b[39m\u001b[39m\"\u001b[39m\u001b[39m.\u001b[39mformat(count, count \u001b[39m-\u001b[39m \u001b[39m1\u001b[39m)\n\u001b[0;32m     85\u001b[0m \u001b[39mif\u001b[39;00m sample_rate \u001b[39mis\u001b[39;00m \u001b[39mNone\u001b[39;00m:  \u001b[39m# automatically set the sample rate to the hardware's default sample rate if not specified\u001b[39;00m\n\u001b[1;32m---> 86\u001b[0m     device_info \u001b[39m=\u001b[39m audio\u001b[39m.\u001b[39mget_device_info_by_index(device_index) \u001b[39mif\u001b[39;00m device_index \u001b[39mis\u001b[39;00m \u001b[39mnot\u001b[39;00m \u001b[39mNone\u001b[39;00m \u001b[39melse\u001b[39;00m audio\u001b[39m.\u001b[39;49mget_default_input_device_info()\n\u001b[0;32m     87\u001b[0m     \u001b[39massert\u001b[39;00m \u001b[39misinstance\u001b[39m(device_info\u001b[39m.\u001b[39mget(\u001b[39m\"\u001b[39m\u001b[39mdefaultSampleRate\u001b[39m\u001b[39m\"\u001b[39m), (\u001b[39mfloat\u001b[39m, \u001b[39mint\u001b[39m)) \u001b[39mand\u001b[39;00m device_info[\u001b[39m\"\u001b[39m\u001b[39mdefaultSampleRate\u001b[39m\u001b[39m\"\u001b[39m] \u001b[39m>\u001b[39m \u001b[39m0\u001b[39m, \u001b[39m\"\u001b[39m\u001b[39mInvalid device info returned from PyAudio: \u001b[39m\u001b[39m{}\u001b[39;00m\u001b[39m\"\u001b[39m\u001b[39m.\u001b[39mformat(device_info)\n\u001b[0;32m     88\u001b[0m     sample_rate \u001b[39m=\u001b[39m \u001b[39mint\u001b[39m(device_info[\u001b[39m\"\u001b[39m\u001b[39mdefaultSampleRate\u001b[39m\u001b[39m\"\u001b[39m])\n",
      "File \u001b[1;32mc:\\Python39\\lib\\site-packages\\pyaudio.py:953\u001b[0m, in \u001b[0;36mPyAudio.get_default_input_device_info\u001b[1;34m(self)\u001b[0m\n\u001b[0;32m    943\u001b[0m \u001b[39mdef\u001b[39;00m \u001b[39mget_default_input_device_info\u001b[39m(\u001b[39mself\u001b[39m):\n\u001b[0;32m    944\u001b[0m     \u001b[39m\"\"\"\u001b[39;00m\n\u001b[0;32m    945\u001b[0m \u001b[39m    Return the default input Device parameters as a\u001b[39;00m\n\u001b[0;32m    946\u001b[0m \u001b[39m    dictionary. The keys of the dictionary mirror the data fields\u001b[39;00m\n\u001b[1;32m   (...)\u001b[0m\n\u001b[0;32m    950\u001b[0m \u001b[39m    :rtype: dict\u001b[39;00m\n\u001b[0;32m    951\u001b[0m \u001b[39m    \"\"\"\u001b[39;00m\n\u001b[1;32m--> 953\u001b[0m     device_index \u001b[39m=\u001b[39m pa\u001b[39m.\u001b[39;49mget_default_input_device()\n\u001b[0;32m    954\u001b[0m     \u001b[39mreturn\u001b[39;00m \u001b[39mself\u001b[39m\u001b[39m.\u001b[39mget_device_info_by_index(device_index)\n",
      "\u001b[1;31mOSError\u001b[0m: No Default Input Device Available"
     ]
    }
   ],
   "source": [
    "text = tranform()"
   ]
  },
  {
   "cell_type": "markdown",
   "metadata": {},
   "source": [
    "트랜스포머에서 여기는 함수입니다.\n"
   ]
  },
  {
   "cell_type": "code",
   "execution_count": 21,
   "metadata": {},
   "outputs": [
    {
     "name": "stdout",
     "output_type": "stream",
     "text": [
      "Requirement already satisfied: pyttsx3 in c:\\python39\\lib\\site-packages (2.90)\n",
      "Requirement already satisfied: pywin32 in c:\\users\\user\\appdata\\roaming\\python\\python39\\site-packages (from pyttsx3) (304)\n",
      "Requirement already satisfied: comtypes in c:\\python39\\lib\\site-packages (from pyttsx3) (1.1.14)\n",
      "Requirement already satisfied: pypiwin32 in c:\\python39\\lib\\site-packages (from pyttsx3) (223)\n"
     ]
    }
   ],
   "source": [
    "!pip install pyttsx3"
   ]
  },
  {
   "cell_type": "code",
   "execution_count": 28,
   "metadata": {},
   "outputs": [],
   "source": [
    "import pyttsx3\n",
    "engine = pyttsx3.init()\n",
    "engine.say('나는장조나는단조나는화음나는멜로디')\n",
    "engine.runAndWait()"
   ]
  },
  {
   "cell_type": "code",
   "execution_count": 35,
   "metadata": {},
   "outputs": [],
   "source": [
    "def speaking(message):\n",
    "    import pyttsx3\n",
    "    engine = pyttsx3.init()\n",
    "    engine.say(message)\n",
    "    engine.runAndWait()"
   ]
  },
  {
   "cell_type": "code",
   "execution_count": 36,
   "metadata": {},
   "outputs": [],
   "source": [
    "speaking('이제 TTS가 중지 되었습니다.')"
   ]
  },
  {
   "cell_type": "markdown",
   "metadata": {},
   "source": [
    "## 날짜 시간 말하기"
   ]
  },
  {
   "cell_type": "markdown",
   "metadata": {},
   "source": [
    "### 날짜 말하기"
   ]
  },
  {
   "cell_type": "code",
   "execution_count": 37,
   "metadata": {},
   "outputs": [],
   "source": [
    "import datetime"
   ]
  },
  {
   "cell_type": "code",
   "execution_count": 41,
   "metadata": {},
   "outputs": [],
   "source": [
    "day = datetime.date.today()"
   ]
  },
  {
   "cell_type": "code",
   "execution_count": 42,
   "metadata": {},
   "outputs": [
    {
     "data": {
      "text/plain": [
       "1"
      ]
     },
     "execution_count": 42,
     "metadata": {},
     "output_type": "execute_result"
    }
   ],
   "source": [
    "day.weekday()"
   ]
  },
  {
   "cell_type": "code",
   "execution_count": 43,
   "metadata": {},
   "outputs": [],
   "source": [
    "def quary_day():\n",
    "    day = datetime.date.today()\n",
    "    weekday = day.weekday()\n",
    "    week_mapping={\n",
    "        0:'월요일',\n",
    "        1:'화요일',\n",
    "        2:'수요일',\n",
    "        3:'목요일',\n",
    "        4:'금요일',\n",
    "        5:'토요일',\n",
    "        6:'일요일',\n",
    "    }\n",
    "\n",
    "    speaking(f\"오늘은 {week_mapping[weekday]} 입니다.\")"
   ]
  },
  {
   "cell_type": "code",
   "execution_count": 44,
   "metadata": {},
   "outputs": [],
   "source": [
    "quary_day()"
   ]
  },
  {
   "cell_type": "markdown",
   "metadata": {},
   "source": [
    "### 시간 말하기"
   ]
  },
  {
   "cell_type": "code",
   "execution_count": null,
   "metadata": {},
   "outputs": [],
   "source": []
  },
  {
   "cell_type": "code",
   "execution_count": null,
   "metadata": {},
   "outputs": [],
   "source": []
  },
  {
   "cell_type": "markdown",
   "metadata": {},
   "source": [
    "## Voice Assistance 만들기"
   ]
  },
  {
   "cell_type": "code",
   "execution_count": 47,
   "metadata": {},
   "outputs": [
    {
     "ename": "OSError",
     "evalue": "No Default Input Device Available",
     "output_type": "error",
     "traceback": [
      "\u001b[1;31m---------------------------------------------------------------------------\u001b[0m",
      "\u001b[1;31mOSError\u001b[0m                                   Traceback (most recent call last)",
      "Cell \u001b[1;32mIn [47], line 2\u001b[0m\n\u001b[0;32m      1\u001b[0m \u001b[38;5;28;01mwhile\u001b[39;00m(\u001b[38;5;28;01mTrue\u001b[39;00m):\n\u001b[1;32m----> 2\u001b[0m     q \u001b[38;5;241m=\u001b[39m \u001b[43mtranform\u001b[49m\u001b[43m(\u001b[49m\u001b[43m)\u001b[49m\n\u001b[0;32m      4\u001b[0m     \u001b[38;5;28;01mif\u001b[39;00m \u001b[38;5;124m\"\u001b[39m\u001b[38;5;124m무슨 요일\u001b[39m\u001b[38;5;124m\"\u001b[39m \u001b[38;5;129;01min\u001b[39;00m q:\n\u001b[0;32m      5\u001b[0m         quary_day()\n",
      "Cell \u001b[1;32mIn [15], line 3\u001b[0m, in \u001b[0;36mtranform\u001b[1;34m()\u001b[0m\n\u001b[0;32m      1\u001b[0m \u001b[38;5;28;01mdef\u001b[39;00m \u001b[38;5;21mtranform\u001b[39m():\n\u001b[0;32m      2\u001b[0m     r \u001b[38;5;241m=\u001b[39m sr\u001b[38;5;241m.\u001b[39mRecognizer()\n\u001b[1;32m----> 3\u001b[0m     \u001b[38;5;28;01mwith\u001b[39;00m \u001b[43msr\u001b[49m\u001b[38;5;241;43m.\u001b[39;49m\u001b[43mMicrophone\u001b[49m\u001b[43m(\u001b[49m\u001b[43m)\u001b[49m \u001b[38;5;28;01mas\u001b[39;00m source:\n\u001b[0;32m      4\u001b[0m         said \u001b[38;5;241m=\u001b[39m r\u001b[38;5;241m.\u001b[39mlisten(source) \u001b[38;5;66;03m# 마이크로 음성을 받음\u001b[39;00m\n\u001b[0;32m      6\u001b[0m         \u001b[38;5;28;01mtry\u001b[39;00m:\n",
      "File \u001b[1;32mc:\\Python39\\lib\\site-packages\\speech_recognition\\__init__.py:86\u001b[0m, in \u001b[0;36mMicrophone.__init__\u001b[1;34m(self, device_index, sample_rate, chunk_size)\u001b[0m\n\u001b[0;32m     84\u001b[0m     \u001b[39massert\u001b[39;00m \u001b[39m0\u001b[39m \u001b[39m<\u001b[39m\u001b[39m=\u001b[39m device_index \u001b[39m<\u001b[39m count, \u001b[39m\"\u001b[39m\u001b[39mDevice index out of range (\u001b[39m\u001b[39m{}\u001b[39;00m\u001b[39m devices available; device index should be between 0 and \u001b[39m\u001b[39m{}\u001b[39;00m\u001b[39m inclusive)\u001b[39m\u001b[39m\"\u001b[39m\u001b[39m.\u001b[39mformat(count, count \u001b[39m-\u001b[39m \u001b[39m1\u001b[39m)\n\u001b[0;32m     85\u001b[0m \u001b[39mif\u001b[39;00m sample_rate \u001b[39mis\u001b[39;00m \u001b[39mNone\u001b[39;00m:  \u001b[39m# automatically set the sample rate to the hardware's default sample rate if not specified\u001b[39;00m\n\u001b[1;32m---> 86\u001b[0m     device_info \u001b[39m=\u001b[39m audio\u001b[39m.\u001b[39mget_device_info_by_index(device_index) \u001b[39mif\u001b[39;00m device_index \u001b[39mis\u001b[39;00m \u001b[39mnot\u001b[39;00m \u001b[39mNone\u001b[39;00m \u001b[39melse\u001b[39;00m audio\u001b[39m.\u001b[39;49mget_default_input_device_info()\n\u001b[0;32m     87\u001b[0m     \u001b[39massert\u001b[39;00m \u001b[39misinstance\u001b[39m(device_info\u001b[39m.\u001b[39mget(\u001b[39m\"\u001b[39m\u001b[39mdefaultSampleRate\u001b[39m\u001b[39m\"\u001b[39m), (\u001b[39mfloat\u001b[39m, \u001b[39mint\u001b[39m)) \u001b[39mand\u001b[39;00m device_info[\u001b[39m\"\u001b[39m\u001b[39mdefaultSampleRate\u001b[39m\u001b[39m\"\u001b[39m] \u001b[39m>\u001b[39m \u001b[39m0\u001b[39m, \u001b[39m\"\u001b[39m\u001b[39mInvalid device info returned from PyAudio: \u001b[39m\u001b[39m{}\u001b[39;00m\u001b[39m\"\u001b[39m\u001b[39m.\u001b[39mformat(device_info)\n\u001b[0;32m     88\u001b[0m     sample_rate \u001b[39m=\u001b[39m \u001b[39mint\u001b[39m(device_info[\u001b[39m\"\u001b[39m\u001b[39mdefaultSampleRate\u001b[39m\u001b[39m\"\u001b[39m])\n",
      "File \u001b[1;32mc:\\Python39\\lib\\site-packages\\pyaudio.py:953\u001b[0m, in \u001b[0;36mPyAudio.get_default_input_device_info\u001b[1;34m(self)\u001b[0m\n\u001b[0;32m    943\u001b[0m \u001b[39mdef\u001b[39;00m \u001b[39mget_default_input_device_info\u001b[39m(\u001b[39mself\u001b[39m):\n\u001b[0;32m    944\u001b[0m     \u001b[39m\"\"\"\u001b[39;00m\n\u001b[0;32m    945\u001b[0m \u001b[39m    Return the default input Device parameters as a\u001b[39;00m\n\u001b[0;32m    946\u001b[0m \u001b[39m    dictionary. The keys of the dictionary mirror the data fields\u001b[39;00m\n\u001b[1;32m   (...)\u001b[0m\n\u001b[0;32m    950\u001b[0m \u001b[39m    :rtype: dict\u001b[39;00m\n\u001b[0;32m    951\u001b[0m \u001b[39m    \"\"\"\u001b[39;00m\n\u001b[1;32m--> 953\u001b[0m     device_index \u001b[39m=\u001b[39m pa\u001b[39m.\u001b[39;49mget_default_input_device()\n\u001b[0;32m    954\u001b[0m     \u001b[39mreturn\u001b[39;00m \u001b[39mself\u001b[39m\u001b[39m.\u001b[39mget_device_info_by_index(device_index)\n",
      "\u001b[1;31mOSError\u001b[0m: No Default Input Device Available"
     ]
    }
   ],
   "source": [
    "while(True):\n",
    "    q = tranform()\n",
    "\n",
    "    if \"무슨 요일\" in q:\n",
    "        quary_day()\n",
    "        continue\n",
    "    elif \"이제 그만\" in q:\n",
    "        speaking(\"바이\")\n",
    "        break"
   ]
  },
  {
   "cell_type": "code",
   "execution_count": null,
   "metadata": {},
   "outputs": [],
   "source": []
  },
  {
   "cell_type": "markdown",
   "metadata": {},
   "source": [
    "----"
   ]
  },
  {
   "cell_type": "markdown",
   "metadata": {},
   "source": [
    "## 발전\n",
    "\n",
    "* 유튜브 켜기\n",
    "* 네이버 켜기"
   ]
  },
  {
   "cell_type": "code",
   "execution_count": 46,
   "metadata": {},
   "outputs": [],
   "source": [
    "import webbrowser"
   ]
  },
  {
   "cell_type": "code",
   "execution_count": null,
   "metadata": {},
   "outputs": [],
   "source": [
    "webbrowser.open('https://www.youtube.com')"
   ]
  },
  {
   "cell_type": "markdown",
   "metadata": {},
   "source": [
    "---"
   ]
  },
  {
   "cell_type": "code",
   "execution_count": 48,
   "metadata": {},
   "outputs": [
    {
     "name": "stdout",
     "output_type": "stream",
     "text": [
      "Collecting pyautogui\n",
      "  Using cached PyAutoGUI-0.9.53.tar.gz (59 kB)\n",
      "  Preparing metadata (setup.py): started\n",
      "  Preparing metadata (setup.py): finished with status 'done'\n",
      "Collecting pymsgbox\n",
      "  Using cached PyMsgBox-1.0.9.tar.gz (18 kB)\n",
      "  Installing build dependencies: started\n",
      "  Installing build dependencies: finished with status 'done'\n",
      "  Getting requirements to build wheel: started\n",
      "  Getting requirements to build wheel: finished with status 'done'\n",
      "  Preparing metadata (pyproject.toml): started\n",
      "  Preparing metadata (pyproject.toml): finished with status 'done'\n",
      "Collecting PyTweening>=1.0.1\n",
      "  Using cached pytweening-1.0.4.tar.gz (14 kB)\n",
      "  Preparing metadata (setup.py): started\n",
      "  Preparing metadata (setup.py): finished with status 'done'\n",
      "Collecting pyscreeze>=0.1.21\n",
      "  Using cached PyScreeze-0.1.28.tar.gz (25 kB)\n",
      "  Installing build dependencies: started\n",
      "  Installing build dependencies: finished with status 'done'\n",
      "  Getting requirements to build wheel: started\n",
      "  Getting requirements to build wheel: finished with status 'done'\n",
      "  Preparing metadata (pyproject.toml): started\n",
      "  Preparing metadata (pyproject.toml): finished with status 'done'\n",
      "Collecting pygetwindow>=0.0.5\n",
      "  Using cached PyGetWindow-0.0.9.tar.gz (9.7 kB)\n",
      "  Preparing metadata (setup.py): started\n",
      "  Preparing metadata (setup.py): finished with status 'done'\n",
      "Collecting mouseinfo\n",
      "  Using cached MouseInfo-0.1.3.tar.gz (10 kB)\n",
      "  Preparing metadata (setup.py): started\n",
      "  Preparing metadata (setup.py): finished with status 'done'\n",
      "Collecting pyrect\n",
      "  Using cached PyRect-0.2.0.tar.gz (17 kB)\n",
      "  Preparing metadata (setup.py): started\n",
      "  Preparing metadata (setup.py): finished with status 'done'\n",
      "Collecting pyperclip\n",
      "  Using cached pyperclip-1.8.2.tar.gz (20 kB)\n",
      "  Preparing metadata (setup.py): started\n",
      "  Preparing metadata (setup.py): finished with status 'done'\n",
      "Building wheels for collected packages: pyautogui, pygetwindow, pyscreeze, PyTweening, mouseinfo, pymsgbox, pyperclip, pyrect\n",
      "  Building wheel for pyautogui (setup.py): started\n",
      "  Building wheel for pyautogui (setup.py): finished with status 'done'\n",
      "  Created wheel for pyautogui: filename=PyAutoGUI-0.9.53-py3-none-any.whl size=36614 sha256=c6cc5b38ab152c19f68ad3b3b41faa4c349b117f1d3631f749c0b978fad7ad15\n",
      "  Stored in directory: c:\\users\\miran\\appdata\\local\\pip\\cache\\wheels\\d8\\97\\e4\\d2edca92a87d3b5fbfb527264750a17b4ba297b9a7cab6e67f\n",
      "  Building wheel for pygetwindow (setup.py): started\n",
      "  Building wheel for pygetwindow (setup.py): finished with status 'done'\n",
      "  Created wheel for pygetwindow: filename=PyGetWindow-0.0.9-py3-none-any.whl size=11081 sha256=186ff6858a9a9fdace1d3c3b47c5c66ac3b8a8b477b64913afc071b452a83a10\n",
      "  Stored in directory: c:\\users\\miran\\appdata\\local\\pip\\cache\\wheels\\44\\ab\\20\\423c3a444793767e4e41f8377bc902f77bee212e68dcce85a5\n",
      "  Building wheel for pyscreeze (pyproject.toml): started\n",
      "  Building wheel for pyscreeze (pyproject.toml): finished with status 'done'\n",
      "  Created wheel for pyscreeze: filename=PyScreeze-0.1.28-py3-none-any.whl size=13009 sha256=f9fb932ee266129d6e2b5f6f30603401a158a553c6d5e819ea996a88044ca28e\n",
      "  Stored in directory: c:\\users\\miran\\appdata\\local\\pip\\cache\\wheels\\a2\\5b\\86\\99f1d8fac5d92de0ccb3f0d4ad15e3f4278baf75a9b0f20b93\n",
      "  Building wheel for PyTweening (setup.py): started\n",
      "  Building wheel for PyTweening (setup.py): finished with status 'done'\n",
      "  Created wheel for PyTweening: filename=pytweening-1.0.4-py3-none-any.whl size=5854 sha256=3739bc220634cfcc8e31ca3f01e1990ed240292b577ac9a616c38f96c377fb56\n",
      "  Stored in directory: c:\\users\\miran\\appdata\\local\\pip\\cache\\wheels\\a4\\5d\\d2\\ba4c8f82163233ffaadcf383c1e34d7d92635d357d13e7b78d\n",
      "  Building wheel for mouseinfo (setup.py): started\n",
      "  Building wheel for mouseinfo (setup.py): finished with status 'done'\n",
      "  Created wheel for mouseinfo: filename=MouseInfo-0.1.3-py3-none-any.whl size=10906 sha256=aa5ffda1c1f1c4112e513dda88bc1b2da6d45a988cb581c10e7a1e8868f7d0ae\n",
      "  Stored in directory: c:\\users\\miran\\appdata\\local\\pip\\cache\\wheels\\61\\73\\b9\\6fb1131ab36e650206e3aa0ad7a68907b41b32ac2d4f75f543\n",
      "  Building wheel for pymsgbox (pyproject.toml): started\n",
      "  Building wheel for pymsgbox (pyproject.toml): finished with status 'done'\n",
      "  Created wheel for pymsgbox: filename=PyMsgBox-1.0.9-py3-none-any.whl size=7406 sha256=6174b50d2b424e3bdf20804d4d03e66f00306d0805526bd16ee26da5bb0155d0\n",
      "  Stored in directory: c:\\users\\miran\\appdata\\local\\pip\\cache\\wheels\\7f\\13\\8c\\584c519464297d9637f9cd29fd1dcdf55e2a2cab225c76a2db\n",
      "  Building wheel for pyperclip (setup.py): started\n",
      "  Building wheel for pyperclip (setup.py): finished with status 'done'\n",
      "  Created wheel for pyperclip: filename=pyperclip-1.8.2-py3-none-any.whl size=11137 sha256=86e6a64affdb18e750a824acb86b9c8626a69ca56dcf46973ed99e26c2dda314\n",
      "  Stored in directory: c:\\users\\miran\\appdata\\local\\pip\\cache\\wheels\\0c\\09\\9e\\49e21a6840ef7955b06d47394afef0058f0378c0914e48b8b8\n",
      "  Building wheel for pyrect (setup.py): started\n",
      "  Building wheel for pyrect (setup.py): finished with status 'done'\n",
      "  Created wheel for pyrect: filename=PyRect-0.2.0-py2.py3-none-any.whl size=11196 sha256=25faa8e2a78795ef0703038eee2a983c7835259f714acc146a55333340d1dcc8\n",
      "  Stored in directory: c:\\users\\miran\\appdata\\local\\pip\\cache\\wheels\\25\\80\\fa\\27bb4a1c2e21f64ec71390489d52e57b7cc8afbe79bd595c5e\n",
      "Successfully built pyautogui pygetwindow pyscreeze PyTweening mouseinfo pymsgbox pyperclip pyrect\n",
      "Installing collected packages: PyTweening, pyscreeze, pyrect, pyperclip, pymsgbox, pygetwindow, mouseinfo, pyautogui\n",
      "Successfully installed PyTweening-1.0.4 mouseinfo-0.1.3 pyautogui-0.9.53 pygetwindow-0.0.9 pymsgbox-1.0.9 pyperclip-1.8.2 pyrect-0.2.0 pyscreeze-0.1.28\n",
      "Note: you may need to restart the kernel to use updated packages.\n"
     ]
    }
   ],
   "source": [
    "%pip install pyautogui"
   ]
  },
  {
   "cell_type": "code",
   "execution_count": 49,
   "metadata": {},
   "outputs": [],
   "source": [
    "import pyautogui"
   ]
  },
  {
   "cell_type": "code",
   "execution_count": 50,
   "metadata": {},
   "outputs": [
    {
     "name": "stdout",
     "output_type": "stream",
     "text": [
      "1920 1080\n"
     ]
    }
   ],
   "source": [
    "#화면 사이즈\n",
    "screen_width, screen_height = pyautogui.size()\n",
    "print(screen_width,screen_height)"
   ]
  },
  {
   "cell_type": "code",
   "execution_count": 51,
   "metadata": {},
   "outputs": [],
   "source": [
    "pyautogui.moveTo(700,1000,3)\n",
    "pyautogui.click(button='left')"
   ]
  },
  {
   "cell_type": "code",
   "execution_count": null,
   "metadata": {},
   "outputs": [],
   "source": []
  }
 ],
 "metadata": {
  "kernelspec": {
   "display_name": "Python 3.9.13 64-bit",
   "language": "python",
   "name": "python3"
  },
  "language_info": {
   "codemirror_mode": {
    "name": "ipython",
    "version": 3
   },
   "file_extension": ".py",
   "mimetype": "text/x-python",
   "name": "python",
   "nbconvert_exporter": "python",
   "pygments_lexer": "ipython3",
   "version": "3.9.13"
  },
  "orig_nbformat": 4,
  "vscode": {
   "interpreter": {
    "hash": "81794d4967e6c3204c66dcd87b604927b115b27c00565d3d43f05ba2f3a2cb0d"
   }
  }
 },
 "nbformat": 4,
 "nbformat_minor": 2
}

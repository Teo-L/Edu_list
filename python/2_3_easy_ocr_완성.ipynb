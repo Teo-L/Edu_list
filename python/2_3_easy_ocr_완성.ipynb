{
  "cells": [
    {
      "cell_type": "markdown",
      "metadata": {
        "id": "lBVAcW7LsJqT"
      },
      "source": [
        "## 영수증을 분석하자!\n",
        "\n",
        "https://pypi.org/project/easyocr/"
      ]
    },
    {
      "cell_type": "code",
      "execution_count": 1,
      "metadata": {
        "id": "_hd4fw9gsJqU",
        "outputId": "9f1c76b0-b3cb-4a82-e323-0e15eb772eda"
      },
      "outputs": [
        {
          "name": "stdout",
          "output_type": "stream",
          "text": [
            "Collecting easyocr\n",
            "  Downloading easyocr-1.6.1-py3-none-any.whl (2.9 MB)\n",
            "     ---------------------------------------- 2.9/2.9 MB 10.1 MB/s eta 0:00:00\n",
            "Collecting torch\n",
            "  Downloading torch-1.12.1-cp39-cp39-win_amd64.whl (161.8 MB)\n",
            "     -------------------------------------- 161.8/161.8 MB 4.5 MB/s eta 0:00:00\n",
            "Collecting numpy\n",
            "  Downloading numpy-1.23.3-cp39-cp39-win_amd64.whl (14.7 MB)\n",
            "     --------------------------------------- 14.7/14.7 MB 10.7 MB/s eta 0:00:00\n",
            "Collecting torchvision>=0.5\n",
            "  Downloading torchvision-0.13.1-cp39-cp39-win_amd64.whl (1.1 MB)\n",
            "     ---------------------------------------- 1.1/1.1 MB 9.6 MB/s eta 0:00:00\n",
            "Requirement already satisfied: Pillow in c:\\python39\\lib\\site-packages (from easyocr) (9.2.0)\n",
            "Collecting PyYAML\n",
            "  Downloading PyYAML-6.0-cp39-cp39-win_amd64.whl (151 kB)\n",
            "     -------------------------------------- 151.6/151.6 kB 8.8 MB/s eta 0:00:00\n",
            "Collecting scikit-image\n",
            "  Downloading scikit_image-0.19.3-cp39-cp39-win_amd64.whl (12.1 MB)\n",
            "     ---------------------------------------- 12.1/12.1 MB 9.3 MB/s eta 0:00:00\n",
            "Collecting Shapely\n",
            "  Downloading Shapely-1.8.4-cp39-cp39-win_amd64.whl (1.3 MB)\n",
            "     ---------------------------------------- 1.3/1.3 MB 10.3 MB/s eta 0:00:00\n",
            "Collecting scipy\n",
            "  Downloading scipy-1.9.1-cp39-cp39-win_amd64.whl (38.6 MB)\n",
            "     ---------------------------------------- 38.6/38.6 MB 7.6 MB/s eta 0:00:00\n",
            "Collecting ninja\n",
            "  Downloading ninja-1.10.2.3-py2.py3-none-win_amd64.whl (292 kB)\n",
            "     -------------------------------------- 292.6/292.6 kB 9.1 MB/s eta 0:00:00\n",
            "Collecting pyclipper\n",
            "  Downloading pyclipper-1.3.0.post3-cp39-cp39-win_amd64.whl (94 kB)\n",
            "     ---------------------------------------- 94.4/94.4 kB 5.3 MB/s eta 0:00:00\n",
            "Collecting python-bidi\n",
            "  Downloading python_bidi-0.4.2-py2.py3-none-any.whl (30 kB)\n",
            "Collecting opencv-python-headless<=4.5.4.60\n",
            "  Downloading opencv_python_headless-4.5.4.60-cp39-cp39-win_amd64.whl (35.0 MB)\n",
            "     ---------------------------------------- 35.0/35.0 MB 8.8 MB/s eta 0:00:00\n",
            "Collecting requests\n",
            "  Downloading requests-2.28.1-py3-none-any.whl (62 kB)\n",
            "     ---------------------------------------- 62.8/62.8 kB ? eta 0:00:00\n",
            "Collecting typing-extensions\n",
            "  Downloading typing_extensions-4.3.0-py3-none-any.whl (25 kB)\n",
            "Requirement already satisfied: six in c:\\users\\user\\appdata\\roaming\\python\\python39\\site-packages (from python-bidi->easyocr) (1.16.0)\n",
            "Collecting PyWavelets>=1.1.1\n",
            "  Downloading PyWavelets-1.3.0-cp39-cp39-win_amd64.whl (4.2 MB)\n",
            "     ---------------------------------------- 4.2/4.2 MB 8.9 MB/s eta 0:00:00\n",
            "Requirement already satisfied: packaging>=20.0 in c:\\users\\user\\appdata\\roaming\\python\\python39\\site-packages (from scikit-image->easyocr) (21.3)\n",
            "Collecting tifffile>=2019.7.26\n",
            "  Downloading tifffile-2022.8.12-py3-none-any.whl (208 kB)\n",
            "     ------------------------------------- 208.5/208.5 kB 13.2 MB/s eta 0:00:00\n",
            "Collecting imageio>=2.4.1\n",
            "  Downloading imageio-2.21.3-py3-none-any.whl (3.4 MB)\n",
            "     ---------------------------------------- 3.4/3.4 MB 10.7 MB/s eta 0:00:00\n",
            "Collecting networkx>=2.2\n",
            "  Downloading networkx-2.8.6-py3-none-any.whl (2.0 MB)\n",
            "     ---------------------------------------- 2.0/2.0 MB 10.8 MB/s eta 0:00:00\n",
            "Requirement already satisfied: pyparsing!=3.0.5,>=2.0.2 in c:\\users\\user\\appdata\\roaming\\python\\python39\\site-packages (from packaging>=20.0->scikit-image->easyocr) (3.0.9)\n",
            "Collecting idna<4,>=2.5\n",
            "  Downloading idna-3.3-py3-none-any.whl (61 kB)\n",
            "     ---------------------------------------- 61.2/61.2 kB 3.2 MB/s eta 0:00:00\n",
            "Collecting urllib3<1.27,>=1.21.1\n",
            "  Downloading urllib3-1.26.12-py2.py3-none-any.whl (140 kB)\n",
            "     -------------------------------------- 140.4/140.4 kB 8.7 MB/s eta 0:00:00\n",
            "Collecting certifi>=2017.4.17\n",
            "  Downloading certifi-2022.6.15.1-py3-none-any.whl (160 kB)\n",
            "     ------------------------------------- 160.4/160.4 kB 10.0 MB/s eta 0:00:00\n",
            "Collecting charset-normalizer<3,>=2\n",
            "  Downloading charset_normalizer-2.1.1-py3-none-any.whl (39 kB)\n",
            "Installing collected packages: pyclipper, ninja, urllib3, typing-extensions, Shapely, PyYAML, python-bidi, numpy, networkx, idna, charset-normalizer, certifi, torch, tifffile, scipy, requests, PyWavelets, opencv-python-headless, imageio, torchvision, scikit-image, easyocr\n",
            "Successfully installed PyWavelets-1.3.0 PyYAML-6.0 Shapely-1.8.4 certifi-2022.6.15.1 charset-normalizer-2.1.1 easyocr-1.6.1 idna-3.3 imageio-2.21.3 networkx-2.8.6 ninja-1.10.2.3 numpy-1.23.3 opencv-python-headless-4.5.4.60 pyclipper-1.3.0.post3 python-bidi-0.4.2 requests-2.28.1 scikit-image-0.19.3 scipy-1.9.1 tifffile-2022.8.12 torch-1.12.1 torchvision-0.13.1 typing-extensions-4.3.0 urllib3-1.26.12\n",
            "Note: you may need to restart the kernel to use updated packages.\n"
          ]
        }
      ],
      "source": [
        "#vscode의 경우 % 매직커맨드 사용\n",
        "%pip install easyocr \n"
      ]
    },
    {
      "cell_type": "code",
      "execution_count": 1,
      "metadata": {
        "id": "Klr0pJEysJqW",
        "outputId": "dcbf9cca-6600-4da5-bc34-8ef235831363"
      },
      "outputs": [
        {
          "name": "stderr",
          "output_type": "stream",
          "text": [
            "CUDA not available - defaulting to CPU. Note: This module is much faster with a GPU.\n",
            "c:\\Python39\\lib\\site-packages\\torchvision\\models\\_utils.py:252: UserWarning: Accessing the model URLs via the internal dictionary of the module is deprecated since 0.13 and will be removed in 0.15. Please access them via the appropriate Weights Enum instead.\n",
            "  warnings.warn(\n",
            "c:\\Python39\\lib\\site-packages\\torchvision\\models\\_utils.py:208: UserWarning: The parameter 'pretrained' is deprecated since 0.13 and will be removed in 0.15, please use 'weights' instead.\n",
            "  warnings.warn(\n",
            "c:\\Python39\\lib\\site-packages\\torchvision\\models\\_utils.py:223: UserWarning: Arguments other than a weight enum or `None` for 'weights' are deprecated since 0.13 and will be removed in 0.15. The current behavior is equivalent to passing `weights=None`.\n",
            "  warnings.warn(msg)\n"
          ]
        }
      ],
      "source": [
        "import easyocr\n",
        "reader = easyocr.Reader(['en','ko']) # this needs to run only once to load the model into memory\n",
        "result = reader.readtext('receipt2.jpg')"
      ]
    },
    {
      "cell_type": "code",
      "execution_count": 2,
      "metadata": {
        "id": "QuW3L2X9sJqW",
        "outputId": "3d30fd76-3b86-4b84-b938-b0284d465317"
      },
      "outputs": [
        {
          "data": {
            "text/plain": [
              "[([[120, 168], [510, 168], [510, 200], [120, 200]],\n",
              "  '[신용카드 (승인) 전표]',\n",
              "  0.7136171386662249),\n",
              " ([[266, 196], [358, 196], [358, 222], [266, 222]],\n",
              "  '고 객 용',\n",
              "  0.39803181814648114),\n",
              " ([[94, 220], [122, 220], [122, 248], [94, 248]], '상', 0.999956131462568),\n",
              " ([[132, 218], [276, 218], [276, 250], [132, 250]],\n",
              "  '호: 왕순대식당',\n",
              "  0.9945652486325715),\n",
              " ([[94, 244], [334, 244], [334, 270], [94, 270]],\n",
              "  '사업자번오: 1UI-11-50148',\n",
              "  0.7229211086925474),\n",
              " ([[346, 244], [496, 244], [496, 272], [346, 272]],\n",
              "  '대표지 : 신영녀',\n",
              "  0.249223727621508),\n",
              " ([[94, 268], [120, 268], [120, 318], [94, 318]], '준', 0.15215313340650383),\n",
              " ([[132, 268], [392, 268], [392, 298], [132, 298]],\n",
              "  '소: 서울 종로구 수표로2길',\n",
              "  0.7591122892870698),\n",
              " ([[130, 294], [166, 294], [166, 318], [130, 318]], '화:', 0.699841511129514),\n",
              " ([[178, 294], [304, 294], [304, 318], [178, 318]],\n",
              "  '02-2266-2379',\n",
              "  0.6044298354013481),\n",
              " ([[92, 340], [514, 340], [514, 372], [92, 372]],\n",
              "  '2017년12월03일 13:01 ND:0048 01-초기사용자',\n",
              "  0.5583685243115355),\n",
              " ([[90, 388], [172, 388], [172, 414], [90, 414]], '카 드명', 0.7784565687179565),\n",
              " ([[206, 390], [338, 390], [338, 416], [206, 416]],\n",
              "  '하나   (구외완)',\n",
              "  0.5122767067923734),\n",
              " ([[86, 410], [170, 410], [170, 436], [86, 436]], '카드번호', 0.989273726940155),\n",
              " ([[204, 412], [310, 412], [310, 438], [204, 438]],\n",
              "  '524335****',\n",
              "  0.9979216616895884),\n",
              " ([[327, 421], [371, 421], [371, 433], [327, 433]],\n",
              "  '#**Y',\n",
              "  0.13947544991970062),\n",
              " ([[81, 431], [320, 431], [320, 462], [81, 462]],\n",
              "  '가행점번호: 00964419733',\n",
              "  0.4635032137382804),\n",
              " ([[74, 454], [168, 454], [168, 510], [74, 510]], '승금', 0.5246654867854336),\n",
              " ([[196, 460], [296, 460], [296, 508], [196, 508]],\n",
              "  'ZAO 원',\n",
              "  0.275937102592991),\n",
              " ([[76, 500], [164, 500], [164, 532], [76, 532]], '공급가액', 0.7410433118365379),\n",
              " ([[196, 504], [370, 504], [370, 534], [196, 534]],\n",
              "  '21,816 원 부가세',\n",
              "  0.9540015811360385),\n",
              " ([[404, 508], [496, 508], [496, 536], [404, 536]],\n",
              "  '2,184 원',\n",
              "  0.5212868941722101),\n",
              " ([[74, 528], [158, 528], [158, 558], [74, 558]], '할부개월', 0.48197340965270996),\n",
              " ([[195, 527], [359, 527], [359, 563], [195, 563]],\n",
              "  '일시불 매입사명',\n",
              "  0.9411765756092917),\n",
              " ([[392, 530], [487, 530], [487, 566], [392, 566]],\n",
              "  '하나외환',\n",
              "  0.8894914984703064),\n",
              " ([[70, 549], [159, 549], [159, 586], [70, 586]], '승인번호', 0.9995201826095581),\n",
              " ([[192, 556], [286, 556], [286, 586], [192, 586]],\n",
              "  '05457012',\n",
              "  0.8397383321706755),\n",
              " ([[70, 578], [158, 578], [158, 610], [70, 610]], '승인일시', 0.9950001835823059),\n",
              " ([[190, 580], [411, 580], [411, 617], [190, 617]],\n",
              "  '2017년[2월03일 13:0I',\n",
              "  0.3898059755550023),\n",
              " ([[68, 632], [92, 632], [92, 658], [68, 658]], '알', 0.9807505195596811),\n",
              " ([[128, 634], [154, 634], [154, 660], [128, 660]], '팀', 0.3248552584394009),\n",
              " ([[191, 634], [403, 634], [403, 673], [191, 673]],\n",
              "  '전자전표 가맣점보관',\n",
              "  0.5751371240323019)]"
            ]
          },
          "execution_count": 2,
          "metadata": {},
          "output_type": "execute_result"
        }
      ],
      "source": [
        "result"
      ]
    },
    {
      "cell_type": "code",
      "execution_count": 3,
      "metadata": {
        "id": "X6Tm1MUwsJqW",
        "outputId": "56f89361-27f1-46a3-eda0-05aedf1a7be4"
      },
      "outputs": [
        {
          "data": {
            "text/plain": [
              "32"
            ]
          },
          "execution_count": 3,
          "metadata": {},
          "output_type": "execute_result"
        }
      ],
      "source": [
        "len(result) # 리스트 개수??"
      ]
    },
    {
      "cell_type": "code",
      "execution_count": null,
      "metadata": {
        "id": "29tkawuHsJqW",
        "outputId": "fdb34fff-ff57-4d95-fcda-3b1cffde17ef"
      },
      "outputs": [
        {
          "data": {
            "text/plain": [
              "list"
            ]
          },
          "execution_count": 6,
          "metadata": {},
          "output_type": "execute_result"
        }
      ],
      "source": [
        "type(result) #타입은 파이썬이니까 리스트"
      ]
    },
    {
      "cell_type": "code",
      "execution_count": 5,
      "metadata": {
        "id": "QvekOB1JsJqX",
        "outputId": "20a43b68-892b-43ee-cb62-f7f10ef17ada"
      },
      "outputs": [
        {
          "data": {
            "text/plain": [
              "([[120, 168], [510, 168], [510, 200], [120, 200]],\n",
              " '[신용카드 (승인) 전표]',\n",
              " 0.7136171386662249)"
            ]
          },
          "execution_count": 5,
          "metadata": {},
          "output_type": "execute_result"
        }
      ],
      "source": [
        "result[0] #1번째 리스트"
      ]
    },
    {
      "cell_type": "code",
      "execution_count": 6,
      "metadata": {
        "id": "k1rHLI15sJqX",
        "outputId": "6b4f2529-29d7-4ca2-873c-3169e7c581ca"
      },
      "outputs": [
        {
          "name": "stdout",
          "output_type": "stream",
          "text": [
            "[신용카드 (승인) 전표]\n",
            "고 객 용\n",
            "상\n",
            "호: 왕순대식당\n",
            "사업자번오: 1UI-11-50148\n",
            "대표지 : 신영녀\n",
            "준\n",
            "소: 서울 종로구 수표로2길\n",
            "화:\n",
            "02-2266-2379\n",
            "2017년12월03일 13:01 ND:0048 01-초기사용자\n",
            "카 드명\n",
            "하나   (구외완)\n",
            "카드번호\n",
            "524335****\n",
            "#**Y\n",
            "가행점번호: 00964419733\n",
            "승금\n",
            "ZAO 원\n",
            "공급가액\n",
            "21,816 원 부가세\n",
            "2,184 원\n",
            "할부개월\n",
            "일시불 매입사명\n",
            "하나외환\n",
            "승인번호\n",
            "05457012\n",
            "승인일시\n",
            "2017년[2월03일 13:0I\n",
            "알\n",
            "팀\n",
            "전자전표 가맣점보관\n"
          ]
        }
      ],
      "source": [
        "for item in result:\n",
        "    print(item[1]) #리스트이 1번째를 모두 출력 "
      ]
    },
    {
      "cell_type": "code",
      "execution_count": 7,
      "metadata": {
        "id": "pNKL61FksJqX",
        "outputId": "c879770a-e7d9-41c2-893a-b5a2cdb0d5be"
      },
      "outputs": [
        {
          "name": "stdout",
          "output_type": "stream",
          "text": [
            "0 [신용카드 (승인) 전표]\n",
            "1 고 객 용\n",
            "2 상\n",
            "3 호: 왕순대식당\n",
            "4 사업자번오: 1UI-11-50148\n",
            "5 대표지 : 신영녀\n",
            "6 준\n",
            "7 소: 서울 종로구 수표로2길\n",
            "8 화:\n",
            "9 02-2266-2379\n",
            "10 2017년12월03일 13:01 ND:0048 01-초기사용자\n",
            "11 카 드명\n",
            "12 하나   (구외완)\n",
            "13 카드번호\n",
            "14 524335****\n",
            "15 #**Y\n",
            "16 가행점번호: 00964419733\n",
            "17 승금\n",
            "18 ZAO 원\n",
            "19 공급가액\n",
            "20 21,816 원 부가세\n",
            "21 2,184 원\n",
            "22 할부개월\n",
            "23 일시불 매입사명\n",
            "24 하나외환\n",
            "25 승인번호\n",
            "26 05457012\n",
            "27 승인일시\n",
            "28 2017년[2월03일 13:0I\n",
            "29 알\n",
            "30 팀\n",
            "31 전자전표 가맣점보관\n"
          ]
        }
      ],
      "source": [
        "for i, item in enumerate(result):\n",
        "    print(i, item[1]) #리스트 순서랑 같이 출력"
      ]
    },
    {
      "cell_type": "code",
      "execution_count": 8,
      "metadata": {
        "id": "4nwPESeVsJqX"
      },
      "outputs": [],
      "source": [
        "when = result[10][1] #10번째리스트의 1번째\n",
        "where = result[3][1]\n",
        "money = result[20][1] # 변수별로 설정"
      ]
    },
    {
      "cell_type": "code",
      "execution_count": 10,
      "metadata": {
        "id": "F1rzsqqisJqY",
        "outputId": "6b963225-bf21-4e02-9654-1488483dc088"
      },
      "outputs": [
        {
          "name": "stdout",
          "output_type": "stream",
          "text": [
            "날짜: 2017년12월03일 13:01 ND:0048 01-초기사용자\n",
            "장소: 호: 왕순대식당\n",
            "금액: 21,816 원 부가세\n"
          ]
        }
      ],
      "source": [
        "# 언제, 어디서, 얼마를 사용했는지 출력\n",
        "\n",
        "print(\"날짜:\", when)\n",
        "print(\"장소:\", where)\n",
        "print(\"금액:\", money)"
      ]
    },
    {
      "cell_type": "code",
      "execution_count": 12,
      "metadata": {
        "id": "YPxydtdysJqY",
        "outputId": "84e6dd44-0582-4d62-fc29-c660cc142f13"
      },
      "outputs": [
        {
          "data": {
            "text/plain": [
              "'2017년12월03일 13:01'"
            ]
          },
          "execution_count": 12,
          "metadata": {},
          "output_type": "execute_result"
        }
      ],
      "source": [
        "when[0:17] #0부터 17까지만 출력"
      ]
    },
    {
      "cell_type": "code",
      "execution_count": 15,
      "metadata": {
        "id": "Jx95rFaNsJqY"
      },
      "outputs": [],
      "source": [
        "#https://strftime.org/\n",
        "#https://docs.python.org/ko/3/library/datetime.html#strftime-and-strptime-behavior\n",
        "\n",
        "\n",
        "import datetime\n",
        "\n",
        "# datetime.datetime.strptime('2017년12월03일 13:01','%Y년%m월%d일 %H:%M')\n",
        "dt = datetime.datetime.strptime(when[0:17],'%Y년%m월%d일 %H:%M')\n",
        "day = dt.strftime('%y-%m-%d')\n",
        "tm = dt.strftime('%H:%M')\n",
        "# 날짜와 시간(datetime)을 문자열로 출력하려면 strftime\n",
        "# 날짜와 시간 형식의 문자열을 datetime으로 변환하려면 strptime"
      ]
    },
    {
      "cell_type": "code",
      "execution_count": 16,
      "metadata": {
        "id": "ac9J7luOsJqY",
        "outputId": "3e9a9491-9fcb-448d-e202-3dcf4ce7f193"
      },
      "outputs": [
        {
          "name": "stdout",
          "output_type": "stream",
          "text": [
            "날짜: 17-12-03\n",
            "시간: 13:01\n",
            "장소: 왕순대식당\n",
            "금액: 21816 원\n"
          ]
        }
      ],
      "source": [
        "print(\"날짜:\", day)\n",
        "print(\"시간:\", tm)\n",
        "print(\"장소:\", where[3:])\n",
        "print(\"금액:\", money[:6].replace(',',''),\"원\")"
      ]
    },
    {
      "cell_type": "code",
      "execution_count": null,
      "metadata": {
        "id": "klfr1CFEsJqZ"
      },
      "outputs": [],
      "source": []
    }
  ],
  "metadata": {
    "colab": {
      "provenance": []
    },
    "kernelspec": {
      "display_name": "Python 3.9.13 64-bit",
      "language": "python",
      "name": "python3"
    },
    "language_info": {
      "codemirror_mode": {
        "name": "ipython",
        "version": 3
      },
      "file_extension": ".py",
      "mimetype": "text/x-python",
      "name": "python",
      "nbconvert_exporter": "python",
      "pygments_lexer": "ipython3",
      "version": "3.9.13"
    },
    "orig_nbformat": 4,
    "vscode": {
      "interpreter": {
        "hash": "81794d4967e6c3204c66dcd87b604927b115b27c00565d3d43f05ba2f3a2cb0d"
      }
    }
  },
  "nbformat": 4,
  "nbformat_minor": 0
}

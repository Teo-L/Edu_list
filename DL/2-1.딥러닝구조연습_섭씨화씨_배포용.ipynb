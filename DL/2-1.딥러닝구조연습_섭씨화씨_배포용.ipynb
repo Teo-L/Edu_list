{
 "cells": [
  {
   "cell_type": "markdown",
   "metadata": {},
   "source": [
    "# 딥러닝 구조 연습\n",
    "\n",
    "* 섭씨 -> 화씨\n",
    "* 공식: T(화씨) = T(섭씨) * 9/5 + 32\n",
    "* 섭씨와 화씨의 관계는 위의 공식에 의해 이미 알고 있는 내용이다.\n",
    "* 텐서플로우는 썹씨와 화씨의 데이터를 통해 어떤 방정식을 만들어 내는지 알아봅시다."
   ]
  },
  {
   "cell_type": "code",
   "execution_count": 1,
   "metadata": {},
   "outputs": [
    {
     "data": {
      "text/plain": [
       "'2.10.0'"
      ]
     },
     "execution_count": 1,
     "metadata": {},
     "output_type": "execute_result"
    }
   ],
   "source": [
    "import tensorflow\n",
    "tensorflow.__version__"
   ]
  },
  {
   "cell_type": "markdown",
   "metadata": {},
   "source": [
    "## 딥러닝 구성하는 순서\n",
    "\n",
    "신경망 생성 -> 모델 compile -> 모델 fit -> 모델 predict -> 모델 저장(save)"
   ]
  },
  {
   "cell_type": "markdown",
   "metadata": {},
   "source": [
    "## 라이브러리 로드"
   ]
  },
  {
   "cell_type": "code",
   "execution_count": 2,
   "metadata": {},
   "outputs": [],
   "source": [
    "import tensorflow as tf\n",
    "import pandas as pd\n",
    "import numpy as np\n",
    "import seaborn as sns\n",
    "import matplotlib.pyplot as plt\n",
    "\n",
    "\n",
    "# 딥러닝을 구동하는 데 필요한 케라스 함수를 불러옵니다.\n",
    "from tensorflow.keras.models import Sequential\n",
    "from tensorflow.keras.layers import Dense,Flatten"
   ]
  },
  {
   "cell_type": "markdown",
   "metadata": {
    "id": "0VBcI6cgzhJ9"
   },
   "source": [
    "## 데이터 로드"
   ]
  },
  {
   "cell_type": "code",
   "execution_count": 5,
   "metadata": {},
   "outputs": [
    {
     "data": {
      "text/html": [
       "<div>\n",
       "<style scoped>\n",
       "    .dataframe tbody tr th:only-of-type {\n",
       "        vertical-align: middle;\n",
       "    }\n",
       "\n",
       "    .dataframe tbody tr th {\n",
       "        vertical-align: top;\n",
       "    }\n",
       "\n",
       "    .dataframe thead th {\n",
       "        text-align: right;\n",
       "    }\n",
       "</style>\n",
       "<table border=\"1\" class=\"dataframe\">\n",
       "  <thead>\n",
       "    <tr style=\"text-align: right;\">\n",
       "      <th></th>\n",
       "      <th>Celsius</th>\n",
       "      <th>Fahrenheit</th>\n",
       "    </tr>\n",
       "  </thead>\n",
       "  <tbody>\n",
       "    <tr>\n",
       "      <th>0</th>\n",
       "      <td>-50</td>\n",
       "      <td>-58.0</td>\n",
       "    </tr>\n",
       "    <tr>\n",
       "      <th>1</th>\n",
       "      <td>-40</td>\n",
       "      <td>-40.0</td>\n",
       "    </tr>\n",
       "    <tr>\n",
       "      <th>2</th>\n",
       "      <td>-30</td>\n",
       "      <td>-22.0</td>\n",
       "    </tr>\n",
       "    <tr>\n",
       "      <th>3</th>\n",
       "      <td>-20</td>\n",
       "      <td>-4.0</td>\n",
       "    </tr>\n",
       "    <tr>\n",
       "      <th>4</th>\n",
       "      <td>-10</td>\n",
       "      <td>14.0</td>\n",
       "    </tr>\n",
       "  </tbody>\n",
       "</table>\n",
       "</div>"
      ],
      "text/plain": [
       "   Celsius  Fahrenheit\n",
       "0      -50       -58.0\n",
       "1      -40       -40.0\n",
       "2      -30       -22.0\n",
       "3      -20        -4.0\n",
       "4      -10        14.0"
      ]
     },
     "execution_count": 5,
     "metadata": {},
     "output_type": "execute_result"
    }
   ],
   "source": [
    "temp_df = pd.read_csv('./data/Celsius-to-Fahrenheit.csv')\n",
    "temp_df.head()\n"
   ]
  },
  {
   "cell_type": "code",
   "execution_count": 6,
   "metadata": {},
   "outputs": [
    {
     "name": "stdout",
     "output_type": "stream",
     "text": [
      "<class 'pandas.core.frame.DataFrame'>\n",
      "RangeIndex: 30 entries, 0 to 29\n",
      "Data columns (total 2 columns):\n",
      " #   Column      Non-Null Count  Dtype  \n",
      "---  ------      --------------  -----  \n",
      " 0   Celsius     30 non-null     int64  \n",
      " 1   Fahrenheit  30 non-null     float64\n",
      "dtypes: float64(1), int64(1)\n",
      "memory usage: 608.0 bytes\n"
     ]
    }
   ],
   "source": [
    "temp_df.info()"
   ]
  },
  {
   "cell_type": "code",
   "execution_count": 7,
   "metadata": {},
   "outputs": [
    {
     "data": {
      "text/html": [
       "<div>\n",
       "<style scoped>\n",
       "    .dataframe tbody tr th:only-of-type {\n",
       "        vertical-align: middle;\n",
       "    }\n",
       "\n",
       "    .dataframe tbody tr th {\n",
       "        vertical-align: top;\n",
       "    }\n",
       "\n",
       "    .dataframe thead th {\n",
       "        text-align: right;\n",
       "    }\n",
       "</style>\n",
       "<table border=\"1\" class=\"dataframe\">\n",
       "  <thead>\n",
       "    <tr style=\"text-align: right;\">\n",
       "      <th></th>\n",
       "      <th>Celsius</th>\n",
       "      <th>Fahrenheit</th>\n",
       "    </tr>\n",
       "  </thead>\n",
       "  <tbody>\n",
       "    <tr>\n",
       "      <th>count</th>\n",
       "      <td>30.000000</td>\n",
       "      <td>30.000000</td>\n",
       "    </tr>\n",
       "    <tr>\n",
       "      <th>mean</th>\n",
       "      <td>2.000000</td>\n",
       "      <td>35.600000</td>\n",
       "    </tr>\n",
       "    <tr>\n",
       "      <th>std</th>\n",
       "      <td>22.780815</td>\n",
       "      <td>41.005466</td>\n",
       "    </tr>\n",
       "    <tr>\n",
       "      <th>min</th>\n",
       "      <td>-50.000000</td>\n",
       "      <td>-58.000000</td>\n",
       "    </tr>\n",
       "    <tr>\n",
       "      <th>25%</th>\n",
       "      <td>-6.750000</td>\n",
       "      <td>19.850000</td>\n",
       "    </tr>\n",
       "    <tr>\n",
       "      <th>50%</th>\n",
       "      <td>0.500000</td>\n",
       "      <td>32.900000</td>\n",
       "    </tr>\n",
       "    <tr>\n",
       "      <th>75%</th>\n",
       "      <td>7.750000</td>\n",
       "      <td>45.950000</td>\n",
       "    </tr>\n",
       "    <tr>\n",
       "      <th>max</th>\n",
       "      <td>60.000000</td>\n",
       "      <td>140.000000</td>\n",
       "    </tr>\n",
       "  </tbody>\n",
       "</table>\n",
       "</div>"
      ],
      "text/plain": [
       "         Celsius  Fahrenheit\n",
       "count  30.000000   30.000000\n",
       "mean    2.000000   35.600000\n",
       "std    22.780815   41.005466\n",
       "min   -50.000000  -58.000000\n",
       "25%    -6.750000   19.850000\n",
       "50%     0.500000   32.900000\n",
       "75%     7.750000   45.950000\n",
       "max    60.000000  140.000000"
      ]
     },
     "execution_count": 7,
     "metadata": {},
     "output_type": "execute_result"
    }
   ],
   "source": [
    "temp_df.describe()"
   ]
  },
  {
   "cell_type": "code",
   "execution_count": 8,
   "metadata": {},
   "outputs": [
    {
     "data": {
      "text/plain": [
       "<matplotlib.collections.PathCollection at 0x1889a20b9a0>"
      ]
     },
     "execution_count": 8,
     "metadata": {},
     "output_type": "execute_result"
    },
    {
     "data": {
      "image/png": "[encoded data removed]",
      "text/plain": [
       "<Figure size 640x480 with 1 Axes>"
      ]
     },
     "metadata": {},
     "output_type": "display_data"
    }
   ],
   "source": [
    "plt.scatter(temp_df['Celsius'],temp_df['Fahrenheit'])"
   ]
  },
  {
   "cell_type": "markdown",
   "metadata": {
    "id": "ryHYiz_MzhJ_"
   },
   "source": [
    "## 데이터 준비"
   ]
  },
  {
   "cell_type": "code",
   "execution_count": 9,
   "metadata": {},
   "outputs": [],
   "source": [
    "X_train = temp_df['Celsius']\n",
    "y_train = temp_df['Fahrenheit']"
   ]
  },
  {
   "cell_type": "code",
   "execution_count": 10,
   "metadata": {},
   "outputs": [
    {
     "data": {
      "text/plain": [
       "(30,)"
      ]
     },
     "execution_count": 10,
     "metadata": {},
     "output_type": "execute_result"
    }
   ],
   "source": [
    "X_train.shape"
   ]
  },
  {
   "cell_type": "code",
   "execution_count": 11,
   "metadata": {},
   "outputs": [
    {
     "data": {
      "text/plain": [
       "(30,)"
      ]
     },
     "execution_count": 11,
     "metadata": {},
     "output_type": "execute_result"
    }
   ],
   "source": [
    "y_train.shape"
   ]
  },
  {
   "cell_type": "markdown",
   "metadata": {
    "id": "m8u__2p1zhKC",
    "tags": []
   },
   "source": [
    "## 딥러닝 구성하기\n",
    "\n",
    "model = Sequential() :  입력층, 은닉층, 출력층을 차곡차곡 쌓아서 순서대로 실행되도록 하는 모델 생성\n",
    "\n",
    "```python\n",
    "Dense(노드 갯수, input_dim=입력 갯수)\n",
    "```\n",
    "\n",
    "\n",
    "**[참고]**\n",
    "tensorflow에서 모델을 생성하는 방법\n",
    "1. Sequential : 해결하려는 문제들에 대해서 95%정도 처리가 가능\n",
    "2. Functional : Sequential한 방법으로도 해결되지 않을 경우에 적용\n",
    "3. Subclass Google에서도 추천하지 않는 방법, 모델을 실제로 깊이 있게 연구하는 사람"
   ]
  },
  {
   "cell_type": "code",
   "execution_count": 12,
   "metadata": {},
   "outputs": [],
   "source": [
    "# 딥러닝 구조를 결정합니다(모델을 설정하고 실행하는 부분입니다).\n",
    "# 딥러닝 모델 생성\n",
    "\n",
    "model = Sequential()"
   ]
  },
  {
   "cell_type": "code",
   "execution_count": 13,
   "metadata": {},
   "outputs": [],
   "source": [
    "# 밑과 동일\n",
    "#입력1개, 유닛1개인 Dense층 구성\n",
    "model.add(Dense(units=1, input_dim=1))"
   ]
  },
  {
   "cell_type": "code",
   "execution_count": null,
   "metadata": {},
   "outputs": [],
   "source": [
    "#입력1개, 유닛1개인 Dense층 구성\n",
    "# model.add(Dense(units=1, input_shape=[1]))"
   ]
  },
  {
   "cell_type": "code",
   "execution_count": 14,
   "metadata": {},
   "outputs": [
    {
     "name": "stdout",
     "output_type": "stream",
     "text": [
      "Model: \"sequential\"\n",
      "_________________________________________________________________\n",
      " Layer (type)                Output Shape              Param #   \n",
      "=================================================================\n",
      " dense (Dense)               (None, 1)                 2         \n",
      "                                                                 \n",
      "=================================================================\n",
      "Total params: 2\n",
      "Trainable params: 2\n",
      "Non-trainable params: 0\n",
      "_________________________________________________________________\n"
     ]
    }
   ],
   "source": [
    "model.summary()"
   ]
  },
  {
   "cell_type": "markdown",
   "metadata": {
    "id": "9VlCYVdAzhKD"
   },
   "source": [
    "## 딥러닝 설정하기\n",
    "\n",
    "* 지정한 모델이 효과적으로 구현될 수 있게 환경을 설정해주는 부분\n",
    "* 손실함수, 경사하강법,평가지표 등의 정보 설정\n",
    "\n",
    "\n",
    "* 오차를 어떻게 측정할껀데? 손실함수\n",
    "* 오차를 가중치에 어떻게 적용할껀데? 경사하강법"
   ]
  },
  {
   "cell_type": "code",
   "execution_count": 19,
   "metadata": {},
   "outputs": [],
   "source": [
    "# 딥러닝을 설정합니다.\n",
    "# 회귀이기 때문에 손실함수는 MSE\n",
    "# 경사하강법은 일반적으로 성능이 제일 좋다는 아담.\n",
    "\n",
    "#model.compile(loss='mean_squared_error',optimizer='Adam') # 기본 학습률 : 0.0\n",
    "\n",
    "\n",
    "model.compile(loss='mean_squared_error',optimizer=tf.keras.optimizers.Adam(0.5))\n"
   ]
  },
  {
   "cell_type": "markdown",
   "metadata": {
    "id": "_rVXB9KJzhKE"
   },
   "source": [
    "## 딥러닝 훈련하기"
   ]
  },
  {
   "cell_type": "code",
   "execution_count": null,
   "metadata": {},
   "outputs": [],
   "source": [
    "# epochs = 모든 샘플에 대해 한 번 훈련하는 것을 1에포크, 모든 샘플을 100번 재사용해서 훈련하라\n",
    "epoch_hist = model.fit(X_train,y_train,epochs=100)\n"
   ]
  },
  {
   "cell_type": "code",
   "execution_count": null,
   "metadata": {},
   "outputs": [],
   "source": [
    "# batch_size = 샘플을 한 번에 몇 개씩 처리할 것인지 정하는 부분, 30개 샘플 중에서 10개씩 끊어서 집어넣어라.\n",
    "# batch_size가 너무 크면 속도 저하, 너무 작으면 실행 값의 편차가 생겨 불안정해짐.\n",
    "\n",
    "# epoch_hist = model.fit(x_train, y_train, epochs=100,batch_size=10)"
   ]
  },
  {
   "cell_type": "code",
   "execution_count": 23,
   "metadata": {},
   "outputs": [
    {
     "data": {
      "text/plain": [
       "dict_keys(['loss'])"
      ]
     },
     "execution_count": 23,
     "metadata": {},
     "output_type": "execute_result"
    }
   ],
   "source": [
    "#학습끝나고\n",
    "#평가하자\n",
    "\n",
    "epoch_hist.history.keys()"
   ]
  },
  {
   "cell_type": "code",
   "execution_count": 24,
   "metadata": {},
   "outputs": [
    {
     "data": {
      "text/plain": [
       "[<matplotlib.lines.Line2D at 0x1889a7d9a60>]"
      ]
     },
     "execution_count": 24,
     "metadata": {},
     "output_type": "execute_result"
    },
    {
     "data": {
      "image/png": "[encoded data removed]",
      "text/plain": [
       "<Figure size 640x480 with 1 Axes>"
      ]
     },
     "metadata": {},
     "output_type": "display_data"
    }
   ],
   "source": [
    "plt.plot(epoch_hist.history['loss'])"
   ]
  },
  {
   "cell_type": "code",
   "execution_count": null,
   "metadata": {},
   "outputs": [],
   "source": [
    "\n"
   ]
  },
  {
   "cell_type": "markdown",
   "metadata": {
    "id": "Tyeu6nIxzhKE"
   },
   "source": [
    "## 평가하기"
   ]
  },
  {
   "cell_type": "code",
   "execution_count": null,
   "metadata": {},
   "outputs": [],
   "source": []
  },
  {
   "cell_type": "markdown",
   "metadata": {},
   "source": [
    "## 예측하기"
   ]
  },
  {
   "cell_type": "code",
   "execution_count": 25,
   "metadata": {},
   "outputs": [
    {
     "name": "stdout",
     "output_type": "stream",
     "text": [
      "1/1 [==============================] - 0s 299ms/step\n"
     ]
    },
    {
     "data": {
      "text/plain": [
       "(array([[32.004562]], dtype=float32), 32.0)"
      ]
     },
     "execution_count": 25,
     "metadata": {},
     "output_type": "execute_result"
    }
   ],
   "source": [
    "#T(화씨) = T(섭씨) * 9/5 + 32\n",
    "Temp_c = 0\n",
    "\n",
    "pred_temp = model.predict([Temp_c]) # 예측값\n",
    "\n",
    "real_temp = Temp_c*(9/5) + 32 # 실제값\n",
    "\n",
    "pred_temp , real_temp"
   ]
  },
  {
   "cell_type": "code",
   "execution_count": null,
   "metadata": {},
   "outputs": [],
   "source": []
  },
  {
   "cell_type": "markdown",
   "metadata": {
    "id": "WjN3lr9xzhKF"
   },
   "source": [
    "## 전체 코드"
   ]
  },
  {
   "cell_type": "code",
   "execution_count": 26,
   "metadata": {},
   "outputs": [
    {
     "name": "stdout",
     "output_type": "stream",
     "text": [
      "Epoch 1/100\n",
      "1/1 [==============================] - 0s 483ms/step - loss: 1900.4440\n",
      "Epoch 2/100\n",
      "1/1 [==============================] - 0s 6ms/step - loss: 1324.9254\n",
      "Epoch 3/100\n",
      "1/1 [==============================] - 0s 4ms/step - loss: 1011.1321\n",
      "Epoch 4/100\n",
      "1/1 [==============================] - 0s 6ms/step - loss: 927.6362\n",
      "Epoch 5/100\n",
      "1/1 [==============================] - 0s 3ms/step - loss: 987.7438\n",
      "Epoch 6/100\n",
      "1/1 [==============================] - 0s 6ms/step - loss: 1068.6744\n",
      "Epoch 7/100\n",
      "1/1 [==============================] - 0s 3ms/step - loss: 1087.8459\n",
      "Epoch 8/100\n",
      "1/1 [==============================] - 0s 7ms/step - loss: 1034.3807\n",
      "Epoch 9/100\n",
      "1/1 [==============================] - 0s 4ms/step - loss: 937.1671\n",
      "Epoch 10/100\n",
      "1/1 [==============================] - 0s 5ms/step - loss: 832.6058\n",
      "Epoch 11/100\n",
      "1/1 [==============================] - 0s 4ms/step - loss: 749.1796\n",
      "Epoch 12/100\n",
      "1/1 [==============================] - 0s 3ms/step - loss: 701.2421\n",
      "Epoch 13/100\n",
      "1/1 [==============================] - 0s 6ms/step - loss: 687.3910\n",
      "Epoch 14/100\n",
      "1/1 [==============================] - 0s 3ms/step - loss: 693.3887\n",
      "Epoch 15/100\n",
      "1/1 [==============================] - 0s 6ms/step - loss: 699.8748\n",
      "Epoch 16/100\n",
      "1/1 [==============================] - 0s 4ms/step - loss: 691.6702\n",
      "Epoch 17/100\n",
      "1/1 [==============================] - 0s 5ms/step - loss: 663.4511\n",
      "Epoch 18/100\n",
      "1/1 [==============================] - 0s 9ms/step - loss: 619.5840\n",
      "Epoch 19/100\n",
      "1/1 [==============================] - 0s 3ms/step - loss: 570.0558\n",
      "Epoch 20/100\n",
      "1/1 [==============================] - 0s 8ms/step - loss: 525.4642\n",
      "Epoch 21/100\n",
      "1/1 [==============================] - 0s 4ms/step - loss: 492.9685\n",
      "Epoch 22/100\n",
      "1/1 [==============================] - 0s 6ms/step - loss: 474.1221\n",
      "Epoch 23/100\n",
      "1/1 [==============================] - 0s 13ms/step - loss: 465.0310\n",
      "Epoch 24/100\n",
      "1/1 [==============================] - 0s 9ms/step - loss: 458.6852\n",
      "Epoch 25/100\n",
      "1/1 [==============================] - 0s 3ms/step - loss: 448.3854\n",
      "Epoch 26/100\n",
      "1/1 [==============================] - 0s 4ms/step - loss: 430.5760\n",
      "Epoch 27/100\n",
      "1/1 [==============================] - 0s 12ms/step - loss: 405.8258\n",
      "Epoch 28/100\n",
      "1/1 [==============================] - 0s 5ms/step - loss: 377.8532\n",
      "Epoch 29/100\n",
      "1/1 [==============================] - 0s 4ms/step - loss: 351.4133\n",
      "Epoch 30/100\n",
      "1/1 [==============================] - 0s 7ms/step - loss: 330.1193\n",
      "Epoch 31/100\n",
      "1/1 [==============================] - 0s 4ms/step - loss: 315.0619\n",
      "Epoch 32/100\n",
      "1/1 [==============================] - 0s 6ms/step - loss: 304.6813\n",
      "Epoch 33/100\n",
      "1/1 [==============================] - 0s 5ms/step - loss: 295.8309\n",
      "Epoch 34/100\n",
      "1/1 [==============================] - 0s 5ms/step - loss: 285.4362\n",
      "Epoch 35/100\n",
      "1/1 [==============================] - 0s 14ms/step - loss: 271.9006\n",
      "Epoch 36/100\n",
      "1/1 [==============================] - 0s 5ms/step - loss: 255.6103\n",
      "Epoch 37/100\n",
      "1/1 [==============================] - 0s 4ms/step - loss: 238.4336\n",
      "Epoch 38/100\n",
      "1/1 [==============================] - 0s 6ms/step - loss: 222.6068\n",
      "Epoch 39/100\n",
      "1/1 [==============================] - 0s 4ms/step - loss: 209.6156\n",
      "Epoch 40/100\n",
      "1/1 [==============================] - 0s 4ms/step - loss: 199.5902\n",
      "Epoch 41/100\n",
      "1/1 [==============================] - 0s 5ms/step - loss: 191.4333\n",
      "Epoch 42/100\n",
      "1/1 [==============================] - 0s 4ms/step - loss: 183.5353\n",
      "Epoch 43/100\n",
      "1/1 [==============================] - 0s 4ms/step - loss: 174.6473\n",
      "Epoch 44/100\n",
      "1/1 [==============================] - 0s 4ms/step - loss: 164.4477\n",
      "Epoch 45/100\n",
      "1/1 [==============================] - 0s 3ms/step - loss: 153.5543\n",
      "Epoch 46/100\n",
      "1/1 [==============================] - 0s 5ms/step - loss: 143.0553\n",
      "Epoch 47/100\n",
      "1/1 [==============================] - 0s 4ms/step - loss: 133.8702\n",
      "Epoch 48/100\n",
      "1/1 [==============================] - 0s 6ms/step - loss: 126.2909\n",
      "Epoch 49/100\n",
      "1/1 [==============================] - 0s 8ms/step - loss: 119.9176\n",
      "Epoch 50/100\n",
      "1/1 [==============================] - 0s 5ms/step - loss: 113.9701\n",
      "Epoch 51/100\n",
      "1/1 [==============================] - 0s 5ms/step - loss: 107.7592\n",
      "Epoch 52/100\n",
      "1/1 [==============================] - 0s 5ms/step - loss: 101.0394\n",
      "Epoch 53/100\n",
      "1/1 [==============================] - 0s 4ms/step - loss: 94.0668\n",
      "Epoch 54/100\n",
      "1/1 [==============================] - 0s 7ms/step - loss: 87.3723\n",
      "Epoch 55/100\n",
      "1/1 [==============================] - 0s 9ms/step - loss: 81.4171\n",
      "Epoch 56/100\n",
      "1/1 [==============================] - 0s 4ms/step - loss: 76.3389\n",
      "Epoch 57/100\n",
      "1/1 [==============================] - 0s 6ms/step - loss: 71.9184\n",
      "Epoch 58/100\n",
      "1/1 [==============================] - 0s 4ms/step - loss: 67.7545\n",
      "Epoch 59/100\n",
      "1/1 [==============================] - 0s 6ms/step - loss: 63.5173\n",
      "Epoch 60/100\n",
      "1/1 [==============================] - 0s 8ms/step - loss: 59.1222\n",
      "Epoch 61/100\n",
      "1/1 [==============================] - 0s 4ms/step - loss: 54.7337\n",
      "Epoch 62/100\n",
      "1/1 [==============================] - 0s 5ms/step - loss: 50.6227\n",
      "Epoch 63/100\n",
      "1/1 [==============================] - 0s 4ms/step - loss: 46.9826\n",
      "Epoch 64/100\n",
      "1/1 [==============================] - 0s 5ms/step - loss: 43.8204\n",
      "Epoch 65/100\n",
      "1/1 [==============================] - 0s 4ms/step - loss: 40.9768\n",
      "Epoch 66/100\n",
      "1/1 [==============================] - 0s 5ms/step - loss: 38.2440\n",
      "Epoch 67/100\n",
      "1/1 [==============================] - 0s 4ms/step - loss: 35.4956\n",
      "Epoch 68/100\n",
      "1/1 [==============================] - 0s 3ms/step - loss: 32.7455\n",
      "Epoch 69/100\n",
      "1/1 [==============================] - 0s 6ms/step - loss: 30.1114\n",
      "Epoch 70/100\n",
      "1/1 [==============================] - 0s 4ms/step - loss: 27.7192\n",
      "Epoch 71/100\n",
      "1/1 [==============================] - 0s 7ms/step - loss: 25.6168\n",
      "Epoch 72/100\n",
      "1/1 [==============================] - 0s 4ms/step - loss: 23.7524\n",
      "Epoch 73/100\n",
      "1/1 [==============================] - 0s 8ms/step - loss: 22.0185\n",
      "Epoch 74/100\n",
      "1/1 [==============================] - 0s 4ms/step - loss: 20.3258\n",
      "Epoch 75/100\n",
      "1/1 [==============================] - 0s 3ms/step - loss: 18.6537\n",
      "Epoch 76/100\n",
      "1/1 [==============================] - 0s 5ms/step - loss: 17.0476\n",
      "Epoch 77/100\n",
      "1/1 [==============================] - 0s 23ms/step - loss: 15.5743\n",
      "Epoch 78/100\n",
      "1/1 [==============================] - 0s 13ms/step - loss: 14.2701\n",
      "Epoch 79/100\n",
      "1/1 [==============================] - 0s 5ms/step - loss: 13.1179\n",
      "Epoch 80/100\n",
      "1/1 [==============================] - 0s 4ms/step - loss: 12.0636\n",
      "Epoch 81/100\n",
      "1/1 [==============================] - 0s 5ms/step - loss: 11.0551\n",
      "Epoch 82/100\n",
      "1/1 [==============================] - 0s 4ms/step - loss: 10.0737\n",
      "Epoch 83/100\n",
      "1/1 [==============================] - 0s 6ms/step - loss: 9.1376\n",
      "Epoch 84/100\n",
      "1/1 [==============================] - 0s 4ms/step - loss: 8.2804\n",
      "Epoch 85/100\n",
      "1/1 [==============================] - 0s 16ms/step - loss: 7.5217\n",
      "Epoch 86/100\n",
      "1/1 [==============================] - 0s 4ms/step - loss: 6.8535\n",
      "Epoch 87/100\n",
      "1/1 [==============================] - 0s 4ms/step - loss: 6.2469\n",
      "Epoch 88/100\n",
      "1/1 [==============================] - 0s 5ms/step - loss: 5.6736\n",
      "Epoch 89/100\n",
      "1/1 [==============================] - 0s 6ms/step - loss: 5.1229\n",
      "Epoch 90/100\n",
      "1/1 [==============================] - 0s 7ms/step - loss: 4.6040\n",
      "Epoch 91/100\n",
      "1/1 [==============================] - 0s 4ms/step - loss: 4.1335\n",
      "Epoch 92/100\n",
      "1/1 [==============================] - 0s 4ms/step - loss: 3.7200\n",
      "Epoch 93/100\n",
      "1/1 [==============================] - 0s 15ms/step - loss: 3.3574\n",
      "Epoch 94/100\n",
      "1/1 [==============================] - 0s 5ms/step - loss: 3.0294\n",
      "Epoch 95/100\n",
      "1/1 [==============================] - 0s 3ms/step - loss: 2.7214\n",
      "Epoch 96/100\n",
      "1/1 [==============================] - 0s 5ms/step - loss: 2.4291\n",
      "Epoch 97/100\n",
      "1/1 [==============================] - 0s 3ms/step - loss: 2.1580\n",
      "Epoch 98/100\n",
      "1/1 [==============================] - 0s 6ms/step - loss: 1.9164\n",
      "Epoch 99/100\n",
      "1/1 [==============================] - 0s 4ms/step - loss: 1.7067\n",
      "Epoch 100/100\n",
      "1/1 [==============================] - 0s 6ms/step - loss: 1.5236\n",
      "1/1 [==============================] - 0s 188ms/step\n"
     ]
    },
    {
     "data": {
      "text/plain": [
       "(array([[30.836937]], dtype=float32), 32.0)"
      ]
     },
     "execution_count": 26,
     "metadata": {},
     "output_type": "execute_result"
    }
   ],
   "source": [
    "import tensorflow as tf\n",
    "import pandas as pd\n",
    "import numpy as np\n",
    "import seaborn as sns\n",
    "import matplotlib.pyplot as plt\n",
    "\n",
    "\n",
    "# 딥러닝을 구동하는 데 필요한 케라스 함수를 불러옵니다.\n",
    "from tensorflow.keras.models import Sequential\n",
    "from tensorflow.keras.layers import Dense,Flatten\n",
    "\n",
    "temp_df = pd.read_csv('./data/Celsius-to-Fahrenheit.csv')\n",
    "X_train = temp_df['Celsius']\n",
    "y_train = temp_df['Fahrenheit']\n",
    "\n",
    "# 딥러닝 모델 생성\n",
    "model = Sequential()\n",
    "\n",
    "#입력1개, 유닛1개인 Dense층 구성\n",
    "model.add(Dense(units=1, input_dim=1))\n",
    "\n",
    "# 딥러닝 설정\n",
    "model.compile(loss='mean_squared_error',optimizer=tf.keras.optimizers.Adam(0.5))\n",
    "\n",
    "# epochs = 모든 샘플에 대해 한 번 훈련하는 것을 1에포크, 모든 샘플을 100번 재사용해서 훈련하라\n",
    "epoch_hist = model.fit(X_train,y_train,epochs=100)\n",
    "\n",
    "#평가하자\n",
    "epoch_hist.history.keys()\n",
    "\n",
    "#예측하기\n",
    "#T(화씨) = T(섭씨) * 9/5 + 32\n",
    "Temp_c = 0\n",
    "\n",
    "pred_temp = model.predict([Temp_c]) # 예측값\n",
    "\n",
    "real_temp = Temp_c*(9/5) + 32 # 실제값\n",
    "\n",
    "pred_temp , real_temp\n"
   ]
  },
  {
   "cell_type": "markdown",
   "metadata": {},
   "source": [
    "## 성능향상"
   ]
  },
  {
   "cell_type": "code",
   "execution_count": null,
   "metadata": {},
   "outputs": [],
   "source": [
    "#에포크를 더 늘리면..\n",
    "import tensorflow as tf\n",
    "import pandas as pd\n",
    "import numpy as np\n",
    "import seaborn as sns\n",
    "import matplotlib.pyplot as plt\n",
    "\n",
    "\n",
    "# 딥러닝을 구동하는 데 필요한 케라스 함수를 불러옵니다.\n",
    "from tensorflow.keras.models import Sequential\n",
    "from tensorflow.keras.layers import Dense,Flatten\n",
    "\n",
    "#데이터 로드\n",
    "temp_df = pd.read_csv('./data/Celsius-to-Fahrenheit.csv')\n",
    "X_train = temp_df['Celsius']\n",
    "y_train = temp_df['Fahrenheit']\n",
    "\n",
    "# 딥러닝 모델 생성\n",
    "model = Sequential()\n",
    "\n",
    "#입력1개, 유닛1개인 Dense층 구성\n",
    "model.add(Dense(units=1, input_dim=1))\n",
    "\n",
    "# 딥러닝 설정\n",
    "model.compile(loss='mean_squared_error',optimizer=tf.keras.optimizers.Adam(0.5))\n",
    "\n",
    "# epochs = 모든 샘플에 대해 한 번 훈련하는 것을 1에포크, 모든 샘플을 200번 재사용해서 훈련하라\n",
    "epoch_hist = model.fit(X_train,y_train,epochs=200)\n",
    "\n",
    "#평가하자\n",
    "epoch_hist.history.keys()\n",
    "\n",
    "#예측하기\n",
    "#T(화씨) = T(섭씨) * 9/5 + 32\n",
    "Temp_c = 0\n",
    "\n",
    "pred_temp = model.predict([Temp_c]) # 예측값\n",
    "\n",
    "real_temp = Temp_c*(9/5) + 32 # 실제값\n",
    "\n",
    "print(f'예측한 화씨 : {pred_temp}, 실제 화씨 : {real_temp}')"
   ]
  },
  {
   "cell_type": "code",
   "execution_count": 6,
   "metadata": {},
   "outputs": [
    {
     "data": {
      "text/plain": [
       "[<matplotlib.lines.Line2D at 0x2a8b8110700>]"
      ]
     },
     "execution_count": 6,
     "metadata": {},
     "output_type": "execute_result"
    },
    {
     "data": {
      "image/png": "[encoded data removed]",
      "text/plain": [
       "<Figure size 640x480 with 1 Axes>"
      ]
     },
     "metadata": {},
     "output_type": "display_data"
    }
   ],
   "source": [
    "plt.plot(epoch_hist.history['loss'])"
   ]
  },
  {
   "cell_type": "code",
   "execution_count": 7,
   "metadata": {},
   "outputs": [
    {
     "data": {
      "text/plain": [
       "[array([[1.7999637]], dtype=float32), array([32.004555], dtype=float32)]"
      ]
     },
     "execution_count": 7,
     "metadata": {},
     "output_type": "execute_result"
    }
   ],
   "source": [
    "model.get_weights() # 가중치 확인 실제인 9/5와 거의 근접"
   ]
  },
  {
   "cell_type": "code",
   "execution_count": null,
   "metadata": {},
   "outputs": [],
   "source": []
  }
 ],
 "metadata": {
  "kernelspec": {
   "display_name": "Python 3.9.13 64-bit",
   "language": "python",
   "name": "python3"
  },
  "language_info": {
   "codemirror_mode": {
    "name": "ipython",
    "version": 3
   },
   "file_extension": ".py",
   "mimetype": "text/x-python",
   "name": "python",
   "nbconvert_exporter": "python",
   "pygments_lexer": "ipython3",
   "version": "3.9.13"
  },
  "orig_nbformat": 4,
  "vscode": {
   "interpreter": {
    "hash": "81794d4967e6c3204c66dcd87b604927b115b27c00565d3d43f05ba2f3a2cb0d"
   }
  }
 },
 "nbformat": 4,
 "nbformat_minor": 2
}
